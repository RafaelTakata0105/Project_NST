{
 "cells": [
  {
   "cell_type": "markdown",
   "id": "f382c1f2",
   "metadata": {},
   "source": [
    "<h1 style=\"text-align: center;\">Proyecto 2 - Neural Style Transfer</h1>\n",
    "\n",
    "<h4 style=\"text-align: center;\">\n",
    "\n",
    "Roi Jared Flores Garza Stone\n",
    "\n",
    "Esteban Gomez Valerio\n",
    "\n",
    "Ivan Morales Camacho\n",
    "\n",
    "Rafael Takata Garcia\n",
    "\n",
    "Machine Learning - O2025_MAF3654H\n",
    "\n",
    "Ing. Juan Antonio Vega Fernández, M. Sc., M. T. Ed\n",
    "\n",
    "ITESO\n",
    "</h4>\n",
    "\n",
    "---"
   ]
  },
  {
   "cell_type": "markdown",
   "id": "feac0600",
   "metadata": {},
   "source": [
    "### **¿Qué es el Neural Style Transfer (NST)?**\n",
    "\n",
    "El Neural Style Transfer (NST) es una técnica de Visión por Computadora que permite generar una nueva imagen combinando dos fotografías:\n",
    "\n",
    "- Imagen de contenido: la fotografía que define qué se muestra (por ejemplo, un retrato de una persona o un paisaje).\n",
    "\n",
    "- Imagen de estilo: la fotografía o pintura que define cómo se representa visualmente el contenido (por ejemplo, los trazos de Van Gogh o los colores de Monet).\n",
    "\n",
    "El objetivo del NST es recrear el contenido de la primera imagen utilizando el estilo de la segunda, produciendo un resultado visualmente similar a una obra artística.\n",
    "\n",
    "### **Origenes**\n",
    "\n",
    "Esta técnica fue introducida por Gatys et al. (2015) en el artículo \"A Neural Algorithm of Artistic Style\" y utiliza redes neuronales convolucionales (CNNs) previamente entrenadas (por ejemplo, VGG-19) para extraer características de bajo y alto nivel de las imágenes.\n",
    "\n",
    "### **¿Cómo funciona?**\n",
    "\n",
    "- Las capas superficiales de la CNN capturan texturas, bordes y colores: ideales para el estilo.\n",
    "\n",
    "- Las capas profundas capturan estructuras, formas y objetos: ideales para el contenido.\n",
    "\n",
    "El NST funciona optimizando una imagen generada para minimizar una función de pérdida que combina:\n",
    "\n",
    "- Pérdida de contenido – mide qué tan diferente es la nueva imagen del contenido original.\n",
    "\n",
    "- Pérdida de estilo – mide qué tan diferente es la nueva imagen del estilo elegido.\n",
    "\n",
    "- (Opcional) Pérdida de regularización – suaviza la imagen final para evitar ruido.\n",
    "\n",
    "De esta manera, el NST no entrena desde cero una red neuronal; en su lugar, usa redes pre-entrenadas para extraer características y luego optimiza los píxeles de la imagen generada.\n",
    "\n",
    "### **Proyecto**\n",
    "\n",
    "En este notebook implementaremos el Neural Style Transfer usando dos frameworks: `PyTorch` y `Keras`. El manejo de dependencias se realizará a través de `uv`.\n",
    "\n",
    "---"
   ]
  },
  {
   "cell_type": "markdown",
   "id": "bf1dadf3",
   "metadata": {},
   "source": [
    "### Librerías a utilizar:"
   ]
  },
  {
   "cell_type": "code",
   "execution_count": 1,
   "id": "661b5ee5",
   "metadata": {},
   "outputs": [],
   "source": [
    "import numpy as np\n",
    "import tensorflow as tf\n",
    "from tensorflow import keras\n",
    "from tensorflow.keras.applications import vgg19"
   ]
  }
 ],
 "metadata": {
  "kernelspec": {
   "display_name": "project-nst",
   "language": "python",
   "name": "python3"
  },
  "language_info": {
   "codemirror_mode": {
    "name": "ipython",
    "version": 3
   },
   "file_extension": ".py",
   "mimetype": "text/x-python",
   "name": "python",
   "nbconvert_exporter": "python",
   "pygments_lexer": "ipython3",
   "version": "3.13.7"
  }
 },
 "nbformat": 4,
 "nbformat_minor": 5
}
